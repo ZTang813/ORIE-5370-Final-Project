{
 "cells": [
  {
   "cell_type": "code",
   "execution_count": null,
   "metadata": {},
   "outputs": [],
   "source": [
    "import pandas as pd\n",
    "import glob\n",
    "\n",
    "path = r'Files' # use your path\n",
    "all_files = glob.glob(path + \"/*.csv\")\n",
    "\n",
    "df = pd.read_csv(r\"dummy.csv\", index_col=None, header=0)\n",
    "\n",
    "masterdf = pd.DataFrame()\n",
    "masterdf['Date'] = df['Date']\n",
    "\n",
    "for filename in all_files:\n",
    "    df = pd.read_csv(filename, index_col=None, header=0)\n",
    "    print(str(len(df))+\" active days\")\n",
    "    stock = filename[6:-4]\n",
    "    df[stock] = np.nan\n",
    "    for index, row in df.iterrows():\n",
    "        date = row['Date']\n",
    "        adj_price  = row['Adj Close']\n",
    "        if date in masterdf['Date'].values:\n",
    "            index = masterdf.index[masterdf['Date'] == date]\n",
    "            masterdf.at[index, stock] = adj_price\n",
    "masterdf.to_csv(r'output.csv')"
   ]
  }
 ],
 "metadata": {
  "kernelspec": {
   "display_name": "Python 3",
   "language": "python",
   "name": "python3"
  },
  "language_info": {
   "codemirror_mode": {
    "name": "ipython",
    "version": 3
   },
   "file_extension": ".py",
   "mimetype": "text/x-python",
   "name": "python",
   "nbconvert_exporter": "python",
   "pygments_lexer": "ipython3",
   "version": "3.6.6"
  }
 },
 "nbformat": 4,
 "nbformat_minor": 2
}
